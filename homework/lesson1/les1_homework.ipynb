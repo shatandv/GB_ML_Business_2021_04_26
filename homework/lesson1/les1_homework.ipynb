{
 "cells": [
  {
   "cell_type": "markdown",
   "metadata": {},
   "source": [
    "# GeekBrains, Data Analysis Algorithms\n",
    "# Lesson 1 Homework"
   ]
  },
  {
   "cell_type": "markdown",
   "metadata": {},
   "source": [
    "**Импорт библиотек**"
   ]
  },
  {
   "cell_type": "code",
   "execution_count": 1,
   "metadata": {},
   "outputs": [],
   "source": [
    "import numpy as np\n",
    "# import pandas as pd\n",
    "import matplotlib.pyplot as plt\n",
    "\n",
    "%matplotlib inline"
   ]
  },
  {
   "cell_type": "markdown",
   "metadata": {},
   "source": [
    "**Функция ошибки**"
   ]
  },
  {
   "cell_type": "code",
   "execution_count": 2,
   "metadata": {},
   "outputs": [],
   "source": [
    "def calc_mse(y_true, y_pred):\n",
    "    return np.mean((y_true - y_pred)**2)"
   ]
  },
  {
   "cell_type": "markdown",
   "metadata": {},
   "source": [
    "**Данные**"
   ]
  },
  {
   "cell_type": "code",
   "execution_count": 3,
   "metadata": {
    "colab": {},
    "colab_type": "code",
    "id": "i77tZbAd5plB"
   },
   "outputs": [
    {
     "data": {
      "text/plain": [
       "(2, 10)"
      ]
     },
     "execution_count": 3,
     "metadata": {},
     "output_type": "execute_result"
    }
   ],
   "source": [
    "X = np.array([[1, 1, 1, 1, 1, 1, 1, 1, 1, 1],   # для умножения на intercept\n",
    "              [1, 1, 2, 1, 3, 0, 5, 10, 1, 2]]) # стаж\n",
    "X.shape"
   ]
  },
  {
   "cell_type": "code",
   "execution_count": 4,
   "metadata": {
    "colab": {},
    "colab_type": "code",
    "id": "VsNrKi1Q6Wmh"
   },
   "outputs": [],
   "source": [
    "# средний балл ЕГЭ (целевая переменная)\n",
    "y = [45, 55, 50, 59, 65, 35, 75, 80, 50, 60]"
   ]
  },
  {
   "cell_type": "markdown",
   "metadata": {},
   "source": [
    "## Задание 1\n",
    "### Условие\n",
    "Подберите скорость обучения (alpha) и количество итераций:"
   ]
  },
  {
   "cell_type": "code",
   "execution_count": 5,
   "metadata": {},
   "outputs": [
    {
     "name": "stdout",
     "output_type": "stream",
     "text": [
      "0 [1.1102 0.84  ] 3173.15\n",
      "100 [ 7.43515582 10.71754582] 899.5990444359252\n",
      "200 [11.44993589 10.49282195] 735.5540619653672\n",
      "300 [14.98921624  9.8634316 ] 606.0048772266812\n",
      "400 [18.17511588  9.27626113] 500.7989288428638\n",
      "500 [21.04606457  8.74617136] 415.355423398327\n",
      "600 [23.63334499  8.26841272] 345.96206460054725\n",
      "700 [25.96499229  7.83785632] 289.6039104863001\n",
      "800 [28.06626432  7.44984037] 243.83236130353217\n",
      "900 [29.95992301  7.10016181] 206.65877484533297\n"
     ]
    }
   ],
   "source": [
    "n = X.shape[1]\n",
    "alpha = 1e-3\n",
    "w = np.array([1, 0.5])\n",
    "\n",
    "for i in range(1000):\n",
    "    y_pred = np.dot(w, X)\n",
    "    err = calc_mse(y, y_pred)\n",
    "    for j in range(w.shape[0]):\n",
    "        w[j] -= alpha * (1/n * 2 * np.sum(X[j] * (y_pred - y)))\n",
    "    if i % 100 == 0:\n",
    "        print(i, w, err)"
   ]
  },
  {
   "cell_type": "markdown",
   "metadata": {},
   "source": [
    "### Решение Задания 1:"
   ]
  },
  {
   "cell_type": "markdown",
   "metadata": {},
   "source": [
    "Количество наблюдений и изначальные веса"
   ]
  },
  {
   "cell_type": "code",
   "execution_count": 6,
   "metadata": {},
   "outputs": [],
   "source": [
    "n = X.shape[1]"
   ]
  },
  {
   "cell_type": "markdown",
   "metadata": {},
   "source": [
    "Задаем несколько вариантов значений скорости обучения и количества итераций"
   ]
  },
  {
   "cell_type": "code",
   "execution_count": 7,
   "metadata": {},
   "outputs": [],
   "source": [
    "alphas = [1e-3, 5e-3, 1e-2, 5e-2, 1e-1, 5e-1, 1]\n",
    "n_iters = np.arange(250, 2001, 250)"
   ]
  },
  {
   "cell_type": "markdown",
   "metadata": {},
   "source": [
    "Пройдем через все варианты гиперпараметров и посмотрим, какие лучше (некий GridSearch)"
   ]
  },
  {
   "cell_type": "code",
   "execution_count": 8,
   "metadata": {},
   "outputs": [
    {
     "name": "stdout",
     "output_type": "stream",
     "text": [
      "0.001 250 249 [13.23154215 10.18353219] 668.7033520716412\n",
      "0.001 500 499 [21.01880845  8.75120433] 416.12485014271545\n",
      "0.001 750 749 [27.02193294  7.64268415] 265.9861471397773\n",
      "0.001 1000 999 [31.6502796   6.78802453] 176.7399358190342\n",
      "0.001 1250 1249 [35.21868711  6.12909079] 123.68974905302211\n",
      "0.001 1500 1499 [37.96989246  5.62105967] 92.15538726600646\n",
      "0.001 1750 1749 [40.0910434   5.22937293] 73.41057157477344\n",
      "0.001 2000 1999 [41.72642888  4.92738649] 62.26818291089486\n",
      "0.005 250 249 [35.25124915  6.12307796] 123.9168050280122\n",
      "0.005 500 499 [43.97712557  4.51177813] 51.69332429512342\n",
      "0.005 750 749 [46.3478067   4.07401372] 46.362350071495655\n",
      "0.005 1000 999 [46.99188286  3.95508013] 45.96885911973595\n",
      "0.005 1250 1249 [47.16686806  3.92276778] 45.939814685712896\n",
      "0.005 1500 1499 [47.21440874  3.91398903] 45.937670852051795\n",
      "0.005 1750 1749 [47.22732478  3.91160398] 45.93751261096634\n",
      "0.005 2000 1999 [47.23083386  3.910956  ] 45.93750093084319\n",
      "0.01 250 249 [43.99927528  4.50768801] 51.67506966332854\n",
      "0.01 500 499 [46.99514157  3.95447839] 45.96833568071608\n",
      "0.01 750 749 [47.21476831  3.91392263] 45.93766572159661\n",
      "0.01 1000 999 [47.23086913  3.91094949] 45.937500890645076\n",
      "0.01 1250 1249 [47.23204948  3.91073153] 45.93750000478662\n",
      "0.01 1500 1499 [47.23213601  3.91071555] 45.937500000025736\n",
      "0.01 1750 1749 [47.23214236  3.91071438] 45.937500000000114\n",
      "0.01 2000 1999 [47.23214282  3.91071429] 45.937499999999986\n",
      "0.05 250 249 [47.23207243  3.91072729] 45.93750000296744\n",
      "0.05 500 499 [47.23214286  3.91071429] 45.937500000000014\n",
      "0.05 750 749 [47.23214286  3.91071429] 45.9375\n",
      "0.05 1000 999 [47.23214286  3.91071429] 45.9375\n",
      "0.05 1250 1249 [47.23214286  3.91071429] 45.9375\n",
      "0.05 1500 1499 [47.23214286  3.91071429] 45.9375\n",
      "0.05 1750 1749 [47.23214286  3.91071429] 45.9375\n",
      "0.05 2000 1999 [47.23214286  3.91071429] 45.9375\n",
      "0.1 250 249 [-2.83733190e+76 -1.53653635e+77] 9.05860959746407e+154\n",
      "0.1 500 499 [-3.77333807e+152 -2.04342364e+153] 1.6021113388592783e+307\n",
      "0.1 750 749 [-5.01812289e+228 -2.71752776e+229] inf\n",
      "0.1 1000 999 [-6.67354922e+304 -3.61401178e+305] inf\n",
      "0.1 1250 1249 [nan nan] nan\n"
     ]
    },
    {
     "name": "stderr",
     "output_type": "stream",
     "text": [
      "<ipython-input-2-c672c65af498>:2: RuntimeWarning: overflow encountered in square\n",
      "  return np.mean((y_true - y_pred)**2)\n",
      "D:\\Programs\\Anaconda3\\envs\\ds_projects\\lib\\site-packages\\numpy\\core\\_methods.py:160: RuntimeWarning: overflow encountered in reduce\n",
      "  ret = umr_sum(arr, axis, dtype, out, keepdims)\n",
      "D:\\Programs\\Anaconda3\\envs\\ds_projects\\lib\\site-packages\\numpy\\core\\fromnumeric.py:87: RuntimeWarning: overflow encountered in reduce\n",
      "  return ufunc.reduce(obj, axis, dtype, out, **passkwargs)\n"
     ]
    },
    {
     "name": "stdout",
     "output_type": "stream",
     "text": [
      "0.1 1500 1499 [nan nan] nan\n",
      "0.1 1750 1749 [nan nan] nan\n",
      "0.1 2000 1999 [nan nan] nan\n",
      "0.5 250 249 [-3.02416611e+287 -1.63771504e+288] inf\n",
      "0.5 500 499 [nan nan] nan\n"
     ]
    },
    {
     "name": "stderr",
     "output_type": "stream",
     "text": [
      "<ipython-input-8-d6dce9a67df8>:12: RuntimeWarning: overflow encountered in multiply\n",
      "  w[j] -= alpha * (1/n * 2 * np.sum(X[j] * (y_pred - y)))\n"
     ]
    },
    {
     "name": "stdout",
     "output_type": "stream",
     "text": [
      "0.5 750 749 [nan nan] nan\n",
      "0.5 1000 999 [nan nan] nan\n",
      "0.5 1250 1249 [nan nan] nan\n",
      "0.5 1500 1499 [nan nan] nan\n",
      "0.5 1750 1749 [nan nan] nan\n",
      "0.5 2000 1999 [nan nan] nan\n",
      "1 250 249 [nan nan] nan\n",
      "1 500 499 [nan nan] nan\n",
      "1 750 749 [nan nan] nan\n",
      "1 1000 999 [nan nan] nan\n",
      "1 1250 1249 [nan nan] nan\n",
      "1 1500 1499 [nan nan] nan\n",
      "1 1750 1749 [nan nan] nan\n",
      "1 2000 1999 [nan nan] nan\n"
     ]
    }
   ],
   "source": [
    "results = []\n",
    "weights_list = {}\n",
    "for alpha in alphas:\n",
    "    for n_iter in n_iters:\n",
    "        # Инициализируем веса\n",
    "        w = np.array([1, 0.5])\n",
    "        # Тренируем модель\n",
    "        for i in range(n_iter):\n",
    "            y_pred = np.dot(w, X)\n",
    "            err = calc_mse(y, y_pred)\n",
    "            for j in range(w.shape[0]):\n",
    "                w[j] -= alpha * (1/n * 2 * np.sum(X[j] * (y_pred - y)))\n",
    "            # if i % 100 == 0:\n",
    "        print(alpha, n_iter, i, w, err)\n",
    "        # Записываем результаты\n",
    "        weights_list[f'w_{alpha}_{n_iter}'] = w\n",
    "        results.append({\"alpha\": alpha, \"n_iter\": n_iter, \"error\": err})"
   ]
  },
  {
   "cell_type": "markdown",
   "metadata": {},
   "source": [
    "Посмотрим результаты"
   ]
  },
  {
   "cell_type": "code",
   "execution_count": 9,
   "metadata": {},
   "outputs": [
    {
     "data": {
      "text/plain": [
       "[{'alpha': 0.001, 'n_iter': 250, 'error': 668.7033520716412},\n",
       " {'alpha': 0.001, 'n_iter': 500, 'error': 416.12485014271545},\n",
       " {'alpha': 0.001, 'n_iter': 750, 'error': 265.9861471397773},\n",
       " {'alpha': 0.001, 'n_iter': 1000, 'error': 176.7399358190342},\n",
       " {'alpha': 0.001, 'n_iter': 1250, 'error': 123.68974905302211},\n",
       " {'alpha': 0.001, 'n_iter': 1500, 'error': 92.15538726600646},\n",
       " {'alpha': 0.001, 'n_iter': 1750, 'error': 73.41057157477344},\n",
       " {'alpha': 0.001, 'n_iter': 2000, 'error': 62.26818291089486},\n",
       " {'alpha': 0.005, 'n_iter': 250, 'error': 123.9168050280122},\n",
       " {'alpha': 0.005, 'n_iter': 500, 'error': 51.69332429512342},\n",
       " {'alpha': 0.005, 'n_iter': 750, 'error': 46.362350071495655},\n",
       " {'alpha': 0.005, 'n_iter': 1000, 'error': 45.96885911973595},\n",
       " {'alpha': 0.005, 'n_iter': 1250, 'error': 45.939814685712896},\n",
       " {'alpha': 0.005, 'n_iter': 1500, 'error': 45.937670852051795},\n",
       " {'alpha': 0.005, 'n_iter': 1750, 'error': 45.93751261096634},\n",
       " {'alpha': 0.005, 'n_iter': 2000, 'error': 45.93750093084319},\n",
       " {'alpha': 0.01, 'n_iter': 250, 'error': 51.67506966332854},\n",
       " {'alpha': 0.01, 'n_iter': 500, 'error': 45.96833568071608},\n",
       " {'alpha': 0.01, 'n_iter': 750, 'error': 45.93766572159661},\n",
       " {'alpha': 0.01, 'n_iter': 1000, 'error': 45.937500890645076},\n",
       " {'alpha': 0.01, 'n_iter': 1250, 'error': 45.93750000478662},\n",
       " {'alpha': 0.01, 'n_iter': 1500, 'error': 45.937500000025736},\n",
       " {'alpha': 0.01, 'n_iter': 1750, 'error': 45.937500000000114},\n",
       " {'alpha': 0.01, 'n_iter': 2000, 'error': 45.937499999999986},\n",
       " {'alpha': 0.05, 'n_iter': 250, 'error': 45.93750000296744},\n",
       " {'alpha': 0.05, 'n_iter': 500, 'error': 45.937500000000014},\n",
       " {'alpha': 0.05, 'n_iter': 750, 'error': 45.9375},\n",
       " {'alpha': 0.05, 'n_iter': 1000, 'error': 45.9375},\n",
       " {'alpha': 0.05, 'n_iter': 1250, 'error': 45.9375},\n",
       " {'alpha': 0.05, 'n_iter': 1500, 'error': 45.9375},\n",
       " {'alpha': 0.05, 'n_iter': 1750, 'error': 45.9375},\n",
       " {'alpha': 0.05, 'n_iter': 2000, 'error': 45.9375},\n",
       " {'alpha': 0.1, 'n_iter': 250, 'error': 9.05860959746407e+154},\n",
       " {'alpha': 0.1, 'n_iter': 500, 'error': 1.6021113388592783e+307},\n",
       " {'alpha': 0.1, 'n_iter': 750, 'error': inf},\n",
       " {'alpha': 0.1, 'n_iter': 1000, 'error': inf},\n",
       " {'alpha': 0.1, 'n_iter': 1250, 'error': nan},\n",
       " {'alpha': 0.1, 'n_iter': 1500, 'error': nan},\n",
       " {'alpha': 0.1, 'n_iter': 1750, 'error': nan},\n",
       " {'alpha': 0.1, 'n_iter': 2000, 'error': nan},\n",
       " {'alpha': 0.5, 'n_iter': 250, 'error': inf},\n",
       " {'alpha': 0.5, 'n_iter': 500, 'error': nan},\n",
       " {'alpha': 0.5, 'n_iter': 750, 'error': nan},\n",
       " {'alpha': 0.5, 'n_iter': 1000, 'error': nan},\n",
       " {'alpha': 0.5, 'n_iter': 1250, 'error': nan},\n",
       " {'alpha': 0.5, 'n_iter': 1500, 'error': nan},\n",
       " {'alpha': 0.5, 'n_iter': 1750, 'error': nan},\n",
       " {'alpha': 0.5, 'n_iter': 2000, 'error': nan},\n",
       " {'alpha': 1, 'n_iter': 250, 'error': nan},\n",
       " {'alpha': 1, 'n_iter': 500, 'error': nan},\n",
       " {'alpha': 1, 'n_iter': 750, 'error': nan},\n",
       " {'alpha': 1, 'n_iter': 1000, 'error': nan},\n",
       " {'alpha': 1, 'n_iter': 1250, 'error': nan},\n",
       " {'alpha': 1, 'n_iter': 1500, 'error': nan},\n",
       " {'alpha': 1, 'n_iter': 1750, 'error': nan},\n",
       " {'alpha': 1, 'n_iter': 2000, 'error': nan}]"
      ]
     },
     "execution_count": 9,
     "metadata": {},
     "output_type": "execute_result"
    }
   ],
   "source": [
    "results"
   ]
  },
  {
   "cell_type": "markdown",
   "metadata": {},
   "source": [
    "По выводу в процессе тренировки можно заметить, что при $ \\alpha = 0.05 $, $ n\\_iter \\geq 500 $ ошибка стабилизируется на значении $ MSE = 45.9375 $. \\\n",
    "В этом случае модель тренируется максимально быстро, сохраняя точность результата. \\\n",
    "Следовательно, параметры $ \\alpha = 0.05 $, $ n\\_iter = 500 $ можно считать оптимальными для данной модели. \\\n",
    "Также посмотрим веса получившейся модели."
   ]
  },
  {
   "cell_type": "code",
   "execution_count": 10,
   "metadata": {},
   "outputs": [
    {
     "data": {
      "text/plain": [
       "array([47.23214286,  3.91071429])"
      ]
     },
     "execution_count": 10,
     "metadata": {},
     "output_type": "execute_result"
    }
   ],
   "source": [
    "weights_list['w_0.05_500']"
   ]
  },
  {
   "cell_type": "markdown",
   "metadata": {},
   "source": [
    "## Задание 2\n",
    "### Условие\n",
    "В этом коде мы избавляемся от итераций по весам, но тут есть ошибка, исправьте ее:"
   ]
  },
  {
   "cell_type": "code",
   "execution_count": 11,
   "metadata": {},
   "outputs": [],
   "source": [
    "alpha = 1e-3"
   ]
  },
  {
   "cell_type": "code",
   "execution_count": 12,
   "metadata": {},
   "outputs": [
    {
     "name": "stdout",
     "output_type": "stream",
     "text": [
      "0 [1.4502 0.9502] 3173.15\n",
      "100 [11.6740207 11.1740207] 737.5884748924025\n",
      "200 [11.82000082 11.32000082] 737.0919281764903\n",
      "300 [11.82208519 11.32208519] 737.0918269437198\n",
      "400 [11.82211495 11.32211495] 737.091826923081\n",
      "500 [11.82211538 11.32211538] 737.091826923077\n",
      "600 [11.82211538 11.32211538] 737.0918269230771\n",
      "700 [11.82211538 11.32211538] 737.091826923077\n",
      "800 [11.82211538 11.32211538] 737.091826923077\n",
      "900 [11.82211538 11.32211538] 737.091826923077\n"
     ]
    }
   ],
   "source": [
    "w = np.array([1, 0.5])\n",
    "\n",
    "for i in range(1000):\n",
    "    y_pred = np.dot(w, X)\n",
    "    err = calc_mse(y, y_pred)\n",
    "    '''for j in range(W.shape[0]):\n",
    "        W[j] -= alpha * (1/n * 2 * np.sum(X[j] * (y_pred - y)))'''\n",
    "    w -= (alpha * (1/n * 2 * np.sum(X * (y_pred - y))))\n",
    "    if i % 100 == 0:\n",
    "        print(i, w, err)"
   ]
  },
  {
   "cell_type": "markdown",
   "metadata": {},
   "source": [
    "### Решение Задания 2:"
   ]
  },
  {
   "cell_type": "markdown",
   "metadata": {},
   "source": [
    "В коде был забыт аргумент axis=1, который должен был указать, что должны были складываться не все элементы двумерного массива, а только элементы в каждой строке (либо можно было использовать метод np.dot() для произведения матрицы с вектором). \\\n",
    "Получалось, что функция np.sum() считала всего лишь 1 число вместо вектора, что привело к неправильной функции градиента и неверной тренировке."
   ]
  },
  {
   "cell_type": "code",
   "execution_count": 13,
   "metadata": {},
   "outputs": [
    {
     "name": "stdout",
     "output_type": "stream",
     "text": [
      "0 [1.1102 0.84  ] 3173.15\n",
      "100 [ 7.43515582 10.71754582] 899.5990444359252\n",
      "200 [11.44993589 10.49282195] 735.5540619653672\n",
      "300 [14.98921624  9.8634316 ] 606.0048772266812\n",
      "400 [18.17511588  9.27626113] 500.7989288428638\n",
      "500 [21.04606457  8.74617136] 415.355423398327\n",
      "600 [23.63334499  8.26841272] 345.96206460054725\n",
      "700 [25.96499229  7.83785632] 289.6039104863001\n",
      "800 [28.06626432  7.44984037] 243.83236130353217\n",
      "900 [29.95992301  7.10016181] 206.65877484533297\n"
     ]
    }
   ],
   "source": [
    "w = np.array([1, 0.5])\n",
    "\n",
    "for i in range(1000):\n",
    "    y_pred = np.dot(w, X)\n",
    "    err = calc_mse(y, y_pred)\n",
    "    '''for j in range(W.shape[0]):\n",
    "        W[j] -= alpha * (1/n * 2 * np.sum(X[j] * (y_pred - y)))'''\n",
    "#     w -= (alpha * (1/n * 2 * X @ (y_pred - y)))\n",
    "    w -= (alpha * (1/n * 2 * np.sum(X * (y_pred - y), axis=1)))\n",
    "    if i % 100 == 0:\n",
    "        print(i, w, err)"
   ]
  },
  {
   "cell_type": "markdown",
   "metadata": {},
   "source": [
    "## Задание 3\n",
    "### Условие\n",
    "Вместо того, чтобы задавать количество итераций, задайте условие остановки алгоритма - когда ошибка за итерацию начинает изменяться ниже определенного порога"
   ]
  },
  {
   "cell_type": "markdown",
   "metadata": {},
   "source": [
    "### Решение Задания 3:"
   ]
  },
  {
   "cell_type": "code",
   "execution_count": 14,
   "metadata": {},
   "outputs": [
    {
     "name": "stdout",
     "output_type": "stream",
     "text": [
      "0 [1.1102 0.84  ] 3173.15\n",
      "100 [ 7.43515582 10.71754582] 899.5990444359252\n",
      "200 [11.44993589 10.49282195] 735.5540619653672\n",
      "300 [14.98921624  9.8634316 ] 606.0048772266812\n",
      "400 [18.17511588  9.27626113] 500.7989288428639\n",
      "500 [21.04606457  8.74617136] 415.355423398327\n",
      "600 [23.63334499  8.26841272] 345.9620646005472\n",
      "700 [25.96499229  7.83785632] 289.60391048629987\n"
     ]
    }
   ],
   "source": [
    "w = np.array([1, 0.5])\n",
    "# Задаем минимальное изменение ошибки для продолжения тренировки\n",
    "min_error_gain = 0.5\n",
    "# Задаем изначальную шибку как бесконечность\n",
    "err = np.inf\n",
    "\n",
    "for i in range(1000):\n",
    "    y_pred = np.dot(w, X)\n",
    "    \n",
    "    # Если изменение ошибки меньше порога, останавливаем тренировку\n",
    "    prev_err = err\n",
    "    err = calc_mse(y, y_pred)\n",
    "    if (prev_err - err) < min_error_gain:\n",
    "        break\n",
    "    \n",
    "    w -= (alpha * (1/n * 2 * X @ (y_pred - y)))\n",
    "    if i % 100 == 0:\n",
    "        print(i, w, err)"
   ]
  }
 ],
 "metadata": {
  "kernelspec": {
   "display_name": "Python 3",
   "language": "python",
   "name": "python3"
  },
  "language_info": {
   "codemirror_mode": {
    "name": "ipython",
    "version": 3
   },
   "file_extension": ".py",
   "mimetype": "text/x-python",
   "name": "python",
   "nbconvert_exporter": "python",
   "pygments_lexer": "ipython3",
   "version": "3.8.6"
  }
 },
 "nbformat": 4,
 "nbformat_minor": 4
}
